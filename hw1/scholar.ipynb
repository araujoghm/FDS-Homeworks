{
 "cells": [
  {
   "cell_type": "markdown",
   "metadata": {},
   "source": [
    "<h1 style=\"text-align:center;\"> Fundamentos de Data Science </h1>\n",
    "<h4 style=\"text-align:center;\">  Guilherme Araújo  e  Gabriel Novais </h4>\n",
    "<p  align=\"justify\"> <b> Description </b> : Step 1 - Scraping .</p>   "
   ]
  },
  {
   "cell_type": "markdown",
   "metadata": {},
   "source": [
    "### Importing Packages"
   ]
  },
  {
   "cell_type": "code",
   "execution_count": 1,
   "metadata": {},
   "outputs": [],
   "source": [
    "import pandas as pd\n",
    "import numpy as np\n",
    "import re\n",
    "import time\n",
    "import selenium\n",
    "import splinter\n",
    "\n",
    "from splinter import Browser\n",
    "from bs4 import BeautifulSoup"
   ]
  },
  {
   "cell_type": "markdown",
   "metadata": {},
   "source": [
    "### Function"
   ]
  },
  {
   "cell_type": "code",
   "execution_count": 5,
   "metadata": {},
   "outputs": [],
   "source": [
    "def scrape(x):\n",
    "    browser = Browser(driver_name='chrome', headless=True)\n",
    "    browser.visit('https://scholar.google.com.br/')\n",
    "    browser.fill('q', x)\n",
    "    browser.find_by_name('btnG').click()\n",
    "    browser.click_link_by_partial_text(x)\n",
    "    browser.click_link_by_partial_text(x)\n",
    "    button = ['Artigos 1–100']\n",
    "    while float(button[0][10:])%100==0:\n",
    "        browser.find_by_id('gsc_bpf_more').click()\n",
    "        time.sleep(3)\n",
    "        soup = BeautifulSoup(browser.html,\"html.parser\")\n",
    "        button = soup.findAll(\"span\", {\"id\":\"gsc_a_nn\"})\n",
    "        button = [re.findall(r'\">(.+?)</span>', str(o))[0] for o in button]\n",
    "        time.sleep(3)\n",
    "    soup = BeautifulSoup(browser.html,\"html.parser\")\n",
    "    tags1 = [a for a in soup.findAll(\"a\", {\"class\":\"gsc_a_at\"})]\n",
    "    tags2 = [div for div in soup.findAll(\"div\", {\"class\":\"gs_gray\"})][::2]\n",
    "    article = [re.findall(r'\">(.+?)</a>', str(o))[0] for o in tags1]\n",
    "    author = [re.findall(r'\">(.+?)</div>', str(o))[0] for o in tags2]\n",
    "    author = [a.split(\", \") for a in author]\n",
    "    t = ['title']*len(author)\n",
    "    a = ['authors']*len(author)\n",
    "    papers = []\n",
    "    for t1, v1,a1,va1 in zip(t,article,a,author):\n",
    "        mydict = {}\n",
    "        mydict[t1] = v1\n",
    "        mydict[a1] = va1\n",
    "        aux = mydict\n",
    "        papers.append(aux)\n",
    "\n",
    "    if len(article)==0 or len(author)==0:\n",
    "        print(\"ERROR: Author doesn't have any Paper or Paper doesn't have any Author\")\n",
    "    else:    \n",
    "        return papers\n",
    "    browser.quit()"
   ]
  },
  {
   "cell_type": "code",
   "execution_count": 1,
   "metadata": {},
   "outputs": [
    {
     "name": "stderr",
     "output_type": "stream",
     "text": [
      "[NbConvertApp] Converting notebook scholar.ipynb to script\n",
      "[NbConvertApp] Writing 2024 bytes to scholar.py\n"
     ]
    }
   ],
   "source": [
    "#Converting\n",
    "!jupyter nbconvert --to script scholar.ipynb"
   ]
  },
  {
   "cell_type": "code",
   "execution_count": null,
   "metadata": {},
   "outputs": [],
   "source": []
  }
 ],
 "metadata": {
  "kernelspec": {
   "display_name": "Python 3",
   "language": "python",
   "name": "python3"
  },
  "language_info": {
   "codemirror_mode": {
    "name": "ipython",
    "version": 3
   },
   "file_extension": ".py",
   "mimetype": "text/x-python",
   "name": "python",
   "nbconvert_exporter": "python",
   "pygments_lexer": "ipython3",
   "version": "3.7.3"
  }
 },
 "nbformat": 4,
 "nbformat_minor": 2
}
