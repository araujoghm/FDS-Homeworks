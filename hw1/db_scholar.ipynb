{
 "cells": [
  {
   "cell_type": "code",
   "execution_count": 9,
   "metadata": {},
   "outputs": [],
   "source": [
    "import sqlite3\n",
    "import pandas as pd\n",
    "from scrape_scholar import scrape"
   ]
  },
  {
   "cell_type": "code",
   "execution_count": 10,
   "metadata": {},
   "outputs": [],
   "source": [
    "def init_db(database):\n",
    "    gs=sqlite3.connect(database)\n",
    "    \n",
    "    gs.cursor().execute(\"\"\"\n",
    "    CREATE TABLE author (\n",
    "    \"id\" INTEGER PRIMARY KEY  NOT NULL ,\n",
    "    \"author_name\" VARCHAR NOT NULL UNIQUE\n",
    "    );\n",
    "    \n",
    "    \"\"\")\n",
    "    \n",
    "    gs.cursor().execute(\"\"\"\n",
    "    CREATE TABLE paper (\n",
    "    \"id\" INTEGER PRIMARY KEY  NOT NULL ,\n",
    "    \"paper_name\" VARCHAR NOT NULL UNIQUE\n",
    "    );\n",
    "    \n",
    "    \"\"\")\n",
    "    \n",
    "    gs.cursor().execute(\"\"\"                    \n",
    "    CREATE TABLE author_paper (\n",
    "    paper_id INTEGER,\n",
    "    author_id INTEGER,\n",
    "    FOREIGN KEY(paper_id) REFERENCES paper(id)\n",
    "    FOREIGN KEY(author_id) REFERENCES author(id)\n",
    "    );\n",
    "    \n",
    "    \"\"\")\n",
    "    \n",
    "    gs.commit()"
   ]
  },
  {
   "cell_type": "code",
   "execution_count": 5,
   "metadata": {},
   "outputs": [],
   "source": [
    "def insert_db(author_name):\n",
    "    \n",
    "    try:\n",
    "        init_db('gsdb.db')\n",
    "    except:\n",
    "        pass\n",
    "    \n",
    "    try:\n",
    "        gs=sqlite3.connect('gsdb.db')        \n",
    "        \n",
    "        df=pd.DataFrame(scrape(author_name))\n",
    "        \n",
    "        author_df = df['authors'].apply(pd.Series).stack(dropna=True).reset_index(drop=True, level=1).rename('author').to_frame()\n",
    "        paper_df = df['title'].apply(pd.Series).stack(dropna=True).reset_index(drop=True, level=1).rename('paper').to_frame()\n",
    "        author_paper_df= author_df.join(paper_df, how='outer')\n",
    "\n",
    "        authors_unique = list(author_df['author'].unique())\n",
    "        papers_unique = list(paper_df['paper'].unique())\n",
    "        \n",
    "        for i in range(0,len(authors_unique)):      \n",
    "            try:\n",
    "                gs.cursor().execute(\"\"\"INSERT INTO author (author_name)\n",
    "                VALUES(?)\"\"\",(authors_unique[i],))\n",
    "            except:\n",
    "                pass\n",
    "    \n",
    "        for i in range(0,len(papers_unique)):\n",
    "            try:\n",
    "                google_s.execute(\"\"\"INSERT INTO paper (paper_name)\n",
    "                VALUES(?)\"\"\", (papers_unique[i],))\n",
    "            \n",
    "                for k in range(0,len(papers_df[i].get('authors'))):\n",
    "                    google_s.execute(\"\"\"INSERT INTO author_paper (author_id, paper_id)\n",
    "                    VALUES(?,?)\n",
    "                    \"\"\", (author_paper_df[i],))\n",
    "            except:\n",
    "                pass\n",
    "        gs.commit()\n",
    "    \n",
    "    except NameError:\n",
    "            return print('Sua busca não encontrou nenhum autor com esse nome no Google Scholar.')"
   ]
  },
  {
   "cell_type": "code",
   "execution_count": 13,
   "metadata": {},
   "outputs": [],
   "source": [
    "def list_table(table):\n",
    "    \n",
    "    gs=sqlite3.connect('gsdb.db',timeout=1)\n",
    "        \n",
    "    gs.cursor().execute(\"\"\"SELECT * FROM {0};\"\"\".format(table))\n",
    "    \n",
    "    return list(gs.cursor().fetchall())\n",
    "    \n",
    "    gs.commit()\n",
    "    gs.close"
   ]
  }
 ],
 "metadata": {
  "kernelspec": {
   "display_name": "Python 3",
   "language": "python",
   "name": "python3"
  },
  "language_info": {
   "codemirror_mode": {
    "name": "ipython",
    "version": 3
   },
   "file_extension": ".py",
   "mimetype": "text/x-python",
   "name": "python",
   "nbconvert_exporter": "python",
   "pygments_lexer": "ipython3",
   "version": "3.7.3"
  }
 },
 "nbformat": 4,
 "nbformat_minor": 2
}
